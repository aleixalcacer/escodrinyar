{
 "cells": [
  {
   "cell_type": "code",
   "execution_count": 1,
   "outputs": [],
   "source": [
    "import matplotlib\n",
    "%load_ext autoreload\n",
    "%autoreload 2"
   ],
   "metadata": {
    "collapsed": false
   }
  },
  {
   "cell_type": "code",
   "execution_count": 2,
   "outputs": [],
   "source": [
    "import escodrinyar as sc\n",
    "import seaborn.objects as so"
   ],
   "metadata": {
    "collapsed": false
   }
  },
  {
   "cell_type": "code",
   "execution_count": 3,
   "outputs": [],
   "source": [
    "# print available themes\n",
    "import matplotlib.style as style\n",
    "# style.available"
   ],
   "metadata": {
    "collapsed": false
   }
  },
  {
   "cell_type": "code",
   "execution_count": 4,
   "outputs": [],
   "source": [
    "import matplotlib.pyplot as plt\n",
    "\n",
    "# set to default\n",
    "plt.style.use('default')\n",
    "theme = \"seaborn-v0_8-colorblind\"\n",
    "# theme = \"ggplot\"\n",
    "plt.style.use(theme)\n",
    "\n",
    "import matplotlib as mpl\n",
    "so.Plot.config.theme.update(mpl.rcParams)"
   ],
   "metadata": {
    "collapsed": false
   }
  },
  {
   "cell_type": "code",
   "execution_count": 5,
   "outputs": [],
   "source": [
    "import seaborn as sns\n",
    "penguins = sns.load_dataset(\"penguins\")"
   ],
   "metadata": {
    "collapsed": false
   }
  },
  {
   "cell_type": "code",
   "execution_count": 6,
   "outputs": [],
   "source": [
    "points = (\n",
    "    sc.Plot(data=penguins, x='bill_length_mm', y='bill_depth_mm', color='species')\n",
    "    .add(so.Dot(marker='.', alpha=0.1))\n",
    ")\n",
    "\n",
    "centroids = (\n",
    "    sc.Plot(data=penguins, x='bill_length_mm', y='bill_depth_mm', color='species')\n",
    "    .add(so.Dot(alpha=1e-8))  # keep axis limits\n",
    "    .add(so.Dot(), sc.Agg2d())\n",
    ")\n",
    "chull = (\n",
    "    sc.Plot(data=penguins, x='bill_length_mm', y='bill_depth_mm', color='species')\n",
    "    .add(sc.ConvexHull(edgewidth=1))\n",
    ")"
   ],
   "metadata": {
    "collapsed": false
   }
  },
  {
   "cell_type": "code",
   "execution_count": 7,
   "outputs": [
    {
     "name": "stdout",
     "output_type": "stream",
     "text": [
      "{}\n",
      "{}\n",
      "{}\n"
     ]
    }
   ],
   "source": [
    "fig1 = (\n",
    "    points + (chull * points * centroids) |\n",
    "    (chull * points * centroids).facet('species')\n",
    ").opts(figsize=(7, 7), height_ratios=[1.3, 1])\n",
    "\n",
    "fig2 = (\n",
    "    points + (chull * points * centroids) |\n",
    "    (chull * points * centroids).facet('species')\n",
    ").opts(figsize=(7, 7), height_ratios=[1.3, 1]).plot()"
   ],
   "metadata": {
    "collapsed": false
   }
  },
  {
   "cell_type": "code",
   "execution_count": null,
   "outputs": [],
   "source": [],
   "metadata": {
    "collapsed": false
   }
  }
 ],
 "metadata": {
  "kernelspec": {
   "display_name": "Python 3",
   "language": "python",
   "name": "python3"
  },
  "language_info": {
   "codemirror_mode": {
    "name": "ipython",
    "version": 2
   },
   "file_extension": ".py",
   "mimetype": "text/x-python",
   "name": "python",
   "nbconvert_exporter": "python",
   "pygments_lexer": "ipython2",
   "version": "2.7.6"
  }
 },
 "nbformat": 4,
 "nbformat_minor": 0
}
