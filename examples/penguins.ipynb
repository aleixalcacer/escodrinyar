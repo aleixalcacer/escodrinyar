{
 "cells": [
  {
   "cell_type": "code",
   "execution_count": 16,
   "outputs": [
    {
     "name": "stdout",
     "output_type": "stream",
     "text": [
      "The autoreload extension is already loaded. To reload it, use:\n",
      "  %reload_ext autoreload\n"
     ]
    }
   ],
   "source": [
    "import matplotlib\n",
    "%load_ext autoreload\n",
    "%autoreload 2"
   ],
   "metadata": {
    "collapsed": false,
    "ExecuteTime": {
     "end_time": "2024-02-21T12:08:23.544616200Z",
     "start_time": "2024-02-21T12:08:23.462018Z"
    }
   }
  },
  {
   "cell_type": "code",
   "execution_count": 17,
   "outputs": [],
   "source": [
    "import escodrinyar as sc\n",
    "import seaborn.objects as so"
   ],
   "metadata": {
    "collapsed": false,
    "ExecuteTime": {
     "end_time": "2024-02-21T12:08:23.606594200Z",
     "start_time": "2024-02-21T12:08:23.544616200Z"
    }
   }
  },
  {
   "cell_type": "code",
   "execution_count": 18,
   "outputs": [],
   "source": [
    "# print available themes\n",
    "import matplotlib.style as style\n",
    "# style.available"
   ],
   "metadata": {
    "collapsed": false,
    "ExecuteTime": {
     "end_time": "2024-02-21T12:08:23.669470900Z",
     "start_time": "2024-02-21T12:08:23.606594200Z"
    }
   }
  },
  {
   "cell_type": "code",
   "execution_count": 19,
   "outputs": [],
   "source": [
    "import matplotlib.pyplot as plt\n",
    "\n",
    "# set to default\n",
    "plt.style.use('default')\n",
    "theme = \"seaborn-v0_8-colorblind\"\n",
    "# theme = \"ggplot\"\n",
    "plt.style.use(theme)\n",
    "\n",
    "import matplotlib as mpl\n",
    "so.Plot.config.theme.update(mpl.rcParams)"
   ],
   "metadata": {
    "collapsed": false,
    "ExecuteTime": {
     "end_time": "2024-02-21T12:08:23.737970600Z",
     "start_time": "2024-02-21T12:08:23.669470900Z"
    }
   }
  },
  {
   "cell_type": "code",
   "execution_count": 20,
   "outputs": [],
   "source": [
    "import seaborn as sns\n",
    "penguins = sns.load_dataset(\"penguins\")"
   ],
   "metadata": {
    "collapsed": false,
    "ExecuteTime": {
     "end_time": "2024-02-21T12:08:23.807070300Z",
     "start_time": "2024-02-21T12:08:23.737970600Z"
    }
   }
  },
  {
   "cell_type": "code",
   "execution_count": 21,
   "outputs": [],
   "source": [
    "points = (\n",
    "    sc.Plot(data=penguins, x='bill_length_mm', y='bill_depth_mm', color='species')\n",
    "    .add(so.Dot(marker='.', alpha=0.1))\n",
    ")\n",
    "\n",
    "centroids = (\n",
    "    sc.Plot(data=penguins, x='bill_length_mm', y='bill_depth_mm', color='species')\n",
    "    .add(so.Dot(alpha=1e-8))  # keep axis limits\n",
    "    .add(so.Dot(), sc.Agg2d())\n",
    ")\n",
    "chull = (\n",
    "    sc.Plot(data=penguins, x='bill_length_mm', y='bill_depth_mm', color='species')\n",
    "    .add(sc.ConvexHull(edgewidth=1))\n",
    ")"
   ],
   "metadata": {
    "collapsed": false,
    "ExecuteTime": {
     "end_time": "2024-02-21T12:08:23.891639700Z",
     "start_time": "2024-02-21T12:08:23.807070300Z"
    }
   }
  },
  {
   "cell_type": "code",
   "execution_count": 31,
   "outputs": [],
   "source": [
    "fig1 = (\n",
    "    points + (chull * points * centroids) |\n",
    "    (chull * points * centroids).facet('species')\n",
    ").opts(figsize=(7, 7), height_ratios=[1.3, 1])\n",
    "\n",
    "fig2 = (\n",
    "    points + (chull * points * centroids) |\n",
    "    (chull * points * centroids).facet('species')\n",
    ").opts(figsize=(7, 7), height_ratios=[1.3, 1]).plot()"
   ],
   "metadata": {
    "collapsed": false,
    "ExecuteTime": {
     "end_time": "2024-02-21T12:10:24.665573700Z",
     "start_time": "2024-02-21T12:10:24.210185600Z"
    }
   }
  }
 ],
 "metadata": {
  "kernelspec": {
   "display_name": "Python 3",
   "language": "python",
   "name": "python3"
  },
  "language_info": {
   "codemirror_mode": {
    "name": "ipython",
    "version": 2
   },
   "file_extension": ".py",
   "mimetype": "text/x-python",
   "name": "python",
   "nbconvert_exporter": "python",
   "pygments_lexer": "ipython2",
   "version": "2.7.6"
  }
 },
 "nbformat": 4,
 "nbformat_minor": 0
}
